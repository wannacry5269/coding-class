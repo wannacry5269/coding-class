{
  "nbformat": 4,
  "nbformat_minor": 0,
  "metadata": {
    "colab": {
      "provenance": []
    },
    "kernelspec": {
      "name": "python3",
      "display_name": "Python 3"
    },
    "language_info": {
      "name": "python"
    }
  },
  "cells": [
    {
      "cell_type": "code",
      "execution_count": null,
      "metadata": {
        "colab": {
          "base_uri": "https://localhost:8080/"
        },
        "id": "0KPYqUSgX5Im",
        "outputId": "e39a58d1-3986-49a8-92e0-26a052c6e28e"
      },
      "outputs": [
        {
          "output_type": "stream",
          "name": "stdout",
          "text": [
            "aabbc \u001b[33;42m hello world\n"
          ]
        }
      ],
      "source": [
        "\n",
        "print('aabbc \\033[33;42m hello world')"
      ]
    }
  ]
}